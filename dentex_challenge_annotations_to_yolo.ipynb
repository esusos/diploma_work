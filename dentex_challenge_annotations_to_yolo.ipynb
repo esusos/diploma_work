{
 "cells": [
  {
   "cell_type": "markdown",
   "id": "e7aa7330",
   "metadata": {},
   "source": [
    "### Import Libraries"
   ]
  },
  {
   "cell_type": "code",
   "execution_count": 1,
   "id": "6312713e",
   "metadata": {},
   "outputs": [],
   "source": [
    "import json\n",
    "import cv2\n",
    "import matplotlib.pyplot as plt\n",
    "import pandas as pd\n",
    "\n",
    "annotation_file = 'train_quadrant_enumeration_disease.json'"
   ]
  },
  {
   "cell_type": "markdown",
   "id": "406bb980",
   "metadata": {},
   "source": [
    "### Read the annotations file"
   ]
  },
  {
   "cell_type": "code",
   "execution_count": 2,
   "id": "b9792177",
   "metadata": {},
   "outputs": [],
   "source": [
    "with open(annotation_file, \"r\") as json_file:\n",
    "    config = json.load(json_file)"
   ]
  },
  {
   "cell_type": "code",
   "execution_count": 4,
   "id": "97a784f4",
   "metadata": {
    "scrolled": true
   },
   "outputs": [
    {
     "data": {
      "text/plain": [
       "dict_keys(['images', 'annotations', 'categories_1', 'categories_2', 'categories_3'])"
      ]
     },
     "execution_count": 4,
     "metadata": {},
     "output_type": "execute_result"
    }
   ],
   "source": [
    "config.keys()"
   ]
  },
  {
   "cell_type": "code",
   "execution_count": 7,
   "id": "65a7c84e",
   "metadata": {},
   "outputs": [
    {
     "data": {
      "text/plain": [
       "[{'height': 1316, 'width': 2850, 'id': 57, 'file_name': 'train_0.png'}]"
      ]
     },
     "execution_count": 7,
     "metadata": {},
     "output_type": "execute_result"
    }
   ],
   "source": [
    "[i for i in config['images'] if i['file_name'] == 'train_0.png']"
   ]
  },
  {
   "cell_type": "markdown",
   "id": "e6f5d6b7",
   "metadata": {},
   "source": [
    "### DataFrames for config parts"
   ]
  },
  {
   "cell_type": "code",
   "execution_count": 10,
   "id": "7beb5708",
   "metadata": {},
   "outputs": [
    {
     "data": {
      "text/html": [
       "<div>\n",
       "<style scoped>\n",
       "    .dataframe tbody tr th:only-of-type {\n",
       "        vertical-align: middle;\n",
       "    }\n",
       "\n",
       "    .dataframe tbody tr th {\n",
       "        vertical-align: top;\n",
       "    }\n",
       "\n",
       "    .dataframe thead th {\n",
       "        text-align: right;\n",
       "    }\n",
       "</style>\n",
       "<table border=\"1\" class=\"dataframe\">\n",
       "  <thead>\n",
       "    <tr style=\"text-align: right;\">\n",
       "      <th></th>\n",
       "      <th>height</th>\n",
       "      <th>width</th>\n",
       "      <th>id</th>\n",
       "      <th>file_name</th>\n",
       "    </tr>\n",
       "  </thead>\n",
       "  <tbody>\n",
       "    <tr>\n",
       "      <th>0</th>\n",
       "      <td>1316</td>\n",
       "      <td>2744</td>\n",
       "      <td>1</td>\n",
       "      <td>train_673.png</td>\n",
       "    </tr>\n",
       "    <tr>\n",
       "      <th>1</th>\n",
       "      <td>1504</td>\n",
       "      <td>2872</td>\n",
       "      <td>2</td>\n",
       "      <td>train_283.png</td>\n",
       "    </tr>\n",
       "    <tr>\n",
       "      <th>2</th>\n",
       "      <td>1316</td>\n",
       "      <td>2909</td>\n",
       "      <td>3</td>\n",
       "      <td>train_435.png</td>\n",
       "    </tr>\n",
       "    <tr>\n",
       "      <th>3</th>\n",
       "      <td>1504</td>\n",
       "      <td>2872</td>\n",
       "      <td>4</td>\n",
       "      <td>train_95.png</td>\n",
       "    </tr>\n",
       "    <tr>\n",
       "      <th>4</th>\n",
       "      <td>1504</td>\n",
       "      <td>2872</td>\n",
       "      <td>5</td>\n",
       "      <td>train_475.png</td>\n",
       "    </tr>\n",
       "    <tr>\n",
       "      <th>...</th>\n",
       "      <td>...</td>\n",
       "      <td>...</td>\n",
       "      <td>...</td>\n",
       "      <td>...</td>\n",
       "    </tr>\n",
       "    <tr>\n",
       "      <th>700</th>\n",
       "      <td>1316</td>\n",
       "      <td>2910</td>\n",
       "      <td>701</td>\n",
       "      <td>train_338.png</td>\n",
       "    </tr>\n",
       "    <tr>\n",
       "      <th>701</th>\n",
       "      <td>1316</td>\n",
       "      <td>2851</td>\n",
       "      <td>702</td>\n",
       "      <td>train_657.png</td>\n",
       "    </tr>\n",
       "    <tr>\n",
       "      <th>702</th>\n",
       "      <td>1316</td>\n",
       "      <td>2850</td>\n",
       "      <td>703</td>\n",
       "      <td>train_344.png</td>\n",
       "    </tr>\n",
       "    <tr>\n",
       "      <th>703</th>\n",
       "      <td>1504</td>\n",
       "      <td>2872</td>\n",
       "      <td>704</td>\n",
       "      <td>train_599.png</td>\n",
       "    </tr>\n",
       "    <tr>\n",
       "      <th>704</th>\n",
       "      <td>1316</td>\n",
       "      <td>2948</td>\n",
       "      <td>705</td>\n",
       "      <td>train_370.png</td>\n",
       "    </tr>\n",
       "  </tbody>\n",
       "</table>\n",
       "<p>705 rows × 4 columns</p>\n",
       "</div>"
      ],
      "text/plain": [
       "     height  width   id      file_name\n",
       "0      1316   2744    1  train_673.png\n",
       "1      1504   2872    2  train_283.png\n",
       "2      1316   2909    3  train_435.png\n",
       "3      1504   2872    4   train_95.png\n",
       "4      1504   2872    5  train_475.png\n",
       "..      ...    ...  ...            ...\n",
       "700    1316   2910  701  train_338.png\n",
       "701    1316   2851  702  train_657.png\n",
       "702    1316   2850  703  train_344.png\n",
       "703    1504   2872  704  train_599.png\n",
       "704    1316   2948  705  train_370.png\n",
       "\n",
       "[705 rows x 4 columns]"
      ]
     },
     "execution_count": 10,
     "metadata": {},
     "output_type": "execute_result"
    }
   ],
   "source": [
    "images_df = pd.DataFrame(config['images'])\n",
    "images_df"
   ]
  },
  {
   "cell_type": "code",
   "execution_count": 32,
   "id": "96618844",
   "metadata": {},
   "outputs": [
    {
     "data": {
      "text/html": [
       "<div>\n",
       "<style scoped>\n",
       "    .dataframe tbody tr th:only-of-type {\n",
       "        vertical-align: middle;\n",
       "    }\n",
       "\n",
       "    .dataframe tbody tr th {\n",
       "        vertical-align: top;\n",
       "    }\n",
       "\n",
       "    .dataframe thead th {\n",
       "        text-align: right;\n",
       "    }\n",
       "</style>\n",
       "<table border=\"1\" class=\"dataframe\">\n",
       "  <thead>\n",
       "    <tr style=\"text-align: right;\">\n",
       "      <th></th>\n",
       "      <th>iscrowd</th>\n",
       "      <th>image_id</th>\n",
       "      <th>bbox</th>\n",
       "      <th>segmentation</th>\n",
       "      <th>id</th>\n",
       "      <th>area</th>\n",
       "      <th>category_id_1</th>\n",
       "      <th>category_id_2</th>\n",
       "      <th>category_id_3</th>\n",
       "    </tr>\n",
       "  </thead>\n",
       "  <tbody>\n",
       "    <tr>\n",
       "      <th>0</th>\n",
       "      <td>0</td>\n",
       "      <td>1</td>\n",
       "      <td>[542.0, 698.0, 220.0, 271.0]</td>\n",
       "      <td>[[621, 703, 573, 744, 542, 885, 580, 945, 650,...</td>\n",
       "      <td>1</td>\n",
       "      <td>39683</td>\n",
       "      <td>3</td>\n",
       "      <td>7</td>\n",
       "      <td>0</td>\n",
       "    </tr>\n",
       "    <tr>\n",
       "      <th>1</th>\n",
       "      <td>0</td>\n",
       "      <td>1</td>\n",
       "      <td>[1952.0, 693.0, 177.0, 270.0]</td>\n",
       "      <td>[[2045, 693, 2109, 734, 2129, 915, 2047, 963, ...</td>\n",
       "      <td>2</td>\n",
       "      <td>33301</td>\n",
       "      <td>2</td>\n",
       "      <td>7</td>\n",
       "      <td>0</td>\n",
       "    </tr>\n",
       "    <tr>\n",
       "      <th>2</th>\n",
       "      <td>0</td>\n",
       "      <td>1</td>\n",
       "      <td>[675.0, 708.0, 243.0, 300.0]</td>\n",
       "      <td>[[784, 711, 754, 746, 737, 821, 678, 916, 675,...</td>\n",
       "      <td>3</td>\n",
       "      <td>45758</td>\n",
       "      <td>3</td>\n",
       "      <td>6</td>\n",
       "      <td>1</td>\n",
       "    </tr>\n",
       "    <tr>\n",
       "      <th>3</th>\n",
       "      <td>0</td>\n",
       "      <td>1</td>\n",
       "      <td>[1463.0, 725.0, 98.0, 425.0]</td>\n",
       "      <td>[[1464, 749, 1513, 725, 1550, 760, 1555, 798, ...</td>\n",
       "      <td>4</td>\n",
       "      <td>30985</td>\n",
       "      <td>2</td>\n",
       "      <td>2</td>\n",
       "      <td>1</td>\n",
       "    </tr>\n",
       "    <tr>\n",
       "      <th>4</th>\n",
       "      <td>0</td>\n",
       "      <td>1</td>\n",
       "      <td>[1536.0, 753.0, 103.0, 381.0]</td>\n",
       "      <td>[[1543, 796, 1590, 753, 1622, 796, 1629, 840, ...</td>\n",
       "      <td>5</td>\n",
       "      <td>28044</td>\n",
       "      <td>2</td>\n",
       "      <td>3</td>\n",
       "      <td>1</td>\n",
       "    </tr>\n",
       "    <tr>\n",
       "      <th>...</th>\n",
       "      <td>...</td>\n",
       "      <td>...</td>\n",
       "      <td>...</td>\n",
       "      <td>...</td>\n",
       "      <td>...</td>\n",
       "      <td>...</td>\n",
       "      <td>...</td>\n",
       "      <td>...</td>\n",
       "      <td>...</td>\n",
       "    </tr>\n",
       "    <tr>\n",
       "      <th>3524</th>\n",
       "      <td>0</td>\n",
       "      <td>705</td>\n",
       "      <td>[1851.2857142857142, 474.2857142857142, 117.14...</td>\n",
       "      <td>[[1885, 477, 1868, 597, 1859, 657, 1851, 728, ...</td>\n",
       "      <td>3525</td>\n",
       "      <td>28938</td>\n",
       "      <td>1</td>\n",
       "      <td>5</td>\n",
       "      <td>1</td>\n",
       "    </tr>\n",
       "    <tr>\n",
       "      <th>3525</th>\n",
       "      <td>0</td>\n",
       "      <td>705</td>\n",
       "      <td>[1959.0, 479.9999999999999, 127.0, 274.2857142...</td>\n",
       "      <td>[[2005, 488, 1974, 479, 1965, 522, 1965, 588, ...</td>\n",
       "      <td>3526</td>\n",
       "      <td>23181</td>\n",
       "      <td>1</td>\n",
       "      <td>6</td>\n",
       "      <td>1</td>\n",
       "    </tr>\n",
       "    <tr>\n",
       "      <th>3526</th>\n",
       "      <td>0</td>\n",
       "      <td>705</td>\n",
       "      <td>[2024.9999999999998, 463.0, 147.00000000000023...</td>\n",
       "      <td>[[2064, 463, 2024, 471, 2036, 559, 2056, 628, ...</td>\n",
       "      <td>3527</td>\n",
       "      <td>20023</td>\n",
       "      <td>1</td>\n",
       "      <td>7</td>\n",
       "      <td>3</td>\n",
       "    </tr>\n",
       "    <tr>\n",
       "      <th>3527</th>\n",
       "      <td>0</td>\n",
       "      <td>705</td>\n",
       "      <td>[1921.7142857142856, 749.0, 221.28571428571445...</td>\n",
       "      <td>[[1942, 783, 1924, 806, 1921, 835, 1944, 872, ...</td>\n",
       "      <td>3528</td>\n",
       "      <td>32824</td>\n",
       "      <td>2</td>\n",
       "      <td>6</td>\n",
       "      <td>1</td>\n",
       "    </tr>\n",
       "    <tr>\n",
       "      <th>3528</th>\n",
       "      <td>0</td>\n",
       "      <td>705</td>\n",
       "      <td>[652.0, 595.7142857142857, 268.2857142857142, ...</td>\n",
       "      <td>[[729, 839, 798, 821, 856, 776, 917, 741, 920,...</td>\n",
       "      <td>3529</td>\n",
       "      <td>36768</td>\n",
       "      <td>3</td>\n",
       "      <td>7</td>\n",
       "      <td>1</td>\n",
       "    </tr>\n",
       "  </tbody>\n",
       "</table>\n",
       "<p>3529 rows × 9 columns</p>\n",
       "</div>"
      ],
      "text/plain": [
       "      iscrowd  image_id                                               bbox  \\\n",
       "0           0         1                       [542.0, 698.0, 220.0, 271.0]   \n",
       "1           0         1                      [1952.0, 693.0, 177.0, 270.0]   \n",
       "2           0         1                       [675.0, 708.0, 243.0, 300.0]   \n",
       "3           0         1                       [1463.0, 725.0, 98.0, 425.0]   \n",
       "4           0         1                      [1536.0, 753.0, 103.0, 381.0]   \n",
       "...       ...       ...                                                ...   \n",
       "3524        0       705  [1851.2857142857142, 474.2857142857142, 117.14...   \n",
       "3525        0       705  [1959.0, 479.9999999999999, 127.0, 274.2857142...   \n",
       "3526        0       705  [2024.9999999999998, 463.0, 147.00000000000023...   \n",
       "3527        0       705  [1921.7142857142856, 749.0, 221.28571428571445...   \n",
       "3528        0       705  [652.0, 595.7142857142857, 268.2857142857142, ...   \n",
       "\n",
       "                                           segmentation    id   area  \\\n",
       "0     [[621, 703, 573, 744, 542, 885, 580, 945, 650,...     1  39683   \n",
       "1     [[2045, 693, 2109, 734, 2129, 915, 2047, 963, ...     2  33301   \n",
       "2     [[784, 711, 754, 746, 737, 821, 678, 916, 675,...     3  45758   \n",
       "3     [[1464, 749, 1513, 725, 1550, 760, 1555, 798, ...     4  30985   \n",
       "4     [[1543, 796, 1590, 753, 1622, 796, 1629, 840, ...     5  28044   \n",
       "...                                                 ...   ...    ...   \n",
       "3524  [[1885, 477, 1868, 597, 1859, 657, 1851, 728, ...  3525  28938   \n",
       "3525  [[2005, 488, 1974, 479, 1965, 522, 1965, 588, ...  3526  23181   \n",
       "3526  [[2064, 463, 2024, 471, 2036, 559, 2056, 628, ...  3527  20023   \n",
       "3527  [[1942, 783, 1924, 806, 1921, 835, 1944, 872, ...  3528  32824   \n",
       "3528  [[729, 839, 798, 821, 856, 776, 917, 741, 920,...  3529  36768   \n",
       "\n",
       "      category_id_1  category_id_2  category_id_3  \n",
       "0                 3              7              0  \n",
       "1                 2              7              0  \n",
       "2                 3              6              1  \n",
       "3                 2              2              1  \n",
       "4                 2              3              1  \n",
       "...             ...            ...            ...  \n",
       "3524              1              5              1  \n",
       "3525              1              6              1  \n",
       "3526              1              7              3  \n",
       "3527              2              6              1  \n",
       "3528              3              7              1  \n",
       "\n",
       "[3529 rows x 9 columns]"
      ]
     },
     "execution_count": 32,
     "metadata": {},
     "output_type": "execute_result"
    }
   ],
   "source": [
    "annotations = pd.DataFrame(config['annotations'])\n",
    "annotations"
   ]
  },
  {
   "cell_type": "code",
   "execution_count": 14,
   "id": "5b6aa216",
   "metadata": {},
   "outputs": [
    {
     "data": {
      "text/plain": [
       "[{'id': 0, 'name': '1', 'supercategory': '1'},\n",
       " {'id': 1, 'name': '2', 'supercategory': '2'},\n",
       " {'id': 2, 'name': '3', 'supercategory': '3'},\n",
       " {'id': 3, 'name': '4', 'supercategory': '4'}]"
      ]
     },
     "execution_count": 14,
     "metadata": {},
     "output_type": "execute_result"
    }
   ],
   "source": [
    "config['categories_1']"
   ]
  },
  {
   "cell_type": "code",
   "execution_count": 13,
   "id": "d4bf18df",
   "metadata": {},
   "outputs": [
    {
     "data": {
      "text/plain": [
       "[{'id': 0, 'name': '1', 'supercategory': '1'},\n",
       " {'id': 1, 'name': '2', 'supercategory': '2'},\n",
       " {'id': 2, 'name': '3', 'supercategory': '3'},\n",
       " {'id': 3, 'name': '4', 'supercategory': '4'},\n",
       " {'id': 4, 'name': '5', 'supercategory': '5'},\n",
       " {'id': 5, 'name': '6', 'supercategory': '6'},\n",
       " {'id': 6, 'name': '7', 'supercategory': '7'},\n",
       " {'id': 7, 'name': '8', 'supercategory': '8'}]"
      ]
     },
     "execution_count": 13,
     "metadata": {},
     "output_type": "execute_result"
    }
   ],
   "source": [
    "config['categories_2']"
   ]
  },
  {
   "cell_type": "code",
   "execution_count": 26,
   "id": "045d3260",
   "metadata": {},
   "outputs": [
    {
     "data": {
      "text/plain": [
       "{0: 'Impacted', 1: 'Caries', 2: 'Periapical Lesion', 3: 'Deep Caries'}"
      ]
     },
     "execution_count": 26,
     "metadata": {},
     "output_type": "execute_result"
    }
   ],
   "source": [
    "disease_label = {}\n",
    "for i in config['categories_3']:\n",
    "    disease_label[i['id']] = i['name'] \n",
    "    \n",
    "disease_label"
   ]
  },
  {
   "cell_type": "markdown",
   "id": "336c6302",
   "metadata": {},
   "source": [
    "### Obtain results for train_0.png"
   ]
  },
  {
   "cell_type": "code",
   "execution_count": 33,
   "id": "de63ddee",
   "metadata": {},
   "outputs": [
    {
     "data": {
      "text/plain": [
       "57"
      ]
     },
     "execution_count": 33,
     "metadata": {},
     "output_type": "execute_result"
    }
   ],
   "source": [
    "res = images_df[images_df['file_name'] == 'train_0.png']\n",
    "image_id = res['id'].to_list()[0]\n",
    "image_id"
   ]
  },
  {
   "cell_type": "code",
   "execution_count": 34,
   "id": "ef18e315",
   "metadata": {},
   "outputs": [
    {
     "data": {
      "text/html": [
       "<div>\n",
       "<style scoped>\n",
       "    .dataframe tbody tr th:only-of-type {\n",
       "        vertical-align: middle;\n",
       "    }\n",
       "\n",
       "    .dataframe tbody tr th {\n",
       "        vertical-align: top;\n",
       "    }\n",
       "\n",
       "    .dataframe thead th {\n",
       "        text-align: right;\n",
       "    }\n",
       "</style>\n",
       "<table border=\"1\" class=\"dataframe\">\n",
       "  <thead>\n",
       "    <tr style=\"text-align: right;\">\n",
       "      <th></th>\n",
       "      <th>iscrowd</th>\n",
       "      <th>image_id</th>\n",
       "      <th>bbox</th>\n",
       "      <th>segmentation</th>\n",
       "      <th>id</th>\n",
       "      <th>area</th>\n",
       "      <th>category_id_1</th>\n",
       "      <th>category_id_2</th>\n",
       "      <th>category_id_3</th>\n",
       "    </tr>\n",
       "  </thead>\n",
       "  <tbody>\n",
       "    <tr>\n",
       "      <th>56</th>\n",
       "      <td>0</td>\n",
       "      <td>9</td>\n",
       "      <td>[831.7460317460317, 426.984126984127, 233.3333...</td>\n",
       "      <td>[[857, 479, 839, 511, 831, 558, 887, 595, 925,...</td>\n",
       "      <td>57</td>\n",
       "      <td>26754</td>\n",
       "      <td>0</td>\n",
       "      <td>7</td>\n",
       "      <td>0</td>\n",
       "    </tr>\n",
       "  </tbody>\n",
       "</table>\n",
       "</div>"
      ],
      "text/plain": [
       "    iscrowd  image_id                                               bbox  \\\n",
       "56        0         9  [831.7460317460317, 426.984126984127, 233.3333...   \n",
       "\n",
       "                                         segmentation  id   area  \\\n",
       "56  [[857, 479, 839, 511, 831, 558, 887, 595, 925,...  57  26754   \n",
       "\n",
       "    category_id_1  category_id_2  category_id_3  \n",
       "56              0              7              0  "
      ]
     },
     "execution_count": 34,
     "metadata": {},
     "output_type": "execute_result"
    }
   ],
   "source": [
    "res = annotations[annotations['id'] == image_id]\n",
    "res"
   ]
  },
  {
   "cell_type": "code",
   "execution_count": 35,
   "id": "314549e2",
   "metadata": {},
   "outputs": [
    {
     "data": {
      "text/html": [
       "<div>\n",
       "<style scoped>\n",
       "    .dataframe tbody tr th:only-of-type {\n",
       "        vertical-align: middle;\n",
       "    }\n",
       "\n",
       "    .dataframe tbody tr th {\n",
       "        vertical-align: top;\n",
       "    }\n",
       "\n",
       "    .dataframe thead th {\n",
       "        text-align: right;\n",
       "    }\n",
       "</style>\n",
       "<table border=\"1\" class=\"dataframe\">\n",
       "  <thead>\n",
       "    <tr style=\"text-align: right;\">\n",
       "      <th></th>\n",
       "      <th>iscrowd</th>\n",
       "      <th>image_id</th>\n",
       "      <th>bbox</th>\n",
       "      <th>segmentation</th>\n",
       "      <th>id</th>\n",
       "      <th>area</th>\n",
       "      <th>category_id_1</th>\n",
       "      <th>category_id_2</th>\n",
       "      <th>category_id_3</th>\n",
       "    </tr>\n",
       "  </thead>\n",
       "  <tbody>\n",
       "    <tr>\n",
       "      <th>56</th>\n",
       "      <td>0</td>\n",
       "      <td>9</td>\n",
       "      <td>[831.7460317460317, 426.984126984127, 233.3333...</td>\n",
       "      <td>[[857, 479, 839, 511, 831, 558, 887, 595, 925,...</td>\n",
       "      <td>57</td>\n",
       "      <td>26754</td>\n",
       "      <td>0</td>\n",
       "      <td>7</td>\n",
       "      <td>Impacted</td>\n",
       "    </tr>\n",
       "  </tbody>\n",
       "</table>\n",
       "</div>"
      ],
      "text/plain": [
       "    iscrowd  image_id                                               bbox  \\\n",
       "56        0         9  [831.7460317460317, 426.984126984127, 233.3333...   \n",
       "\n",
       "                                         segmentation  id   area  \\\n",
       "56  [[857, 479, 839, 511, 831, 558, 887, 595, 925,...  57  26754   \n",
       "\n",
       "    category_id_1  category_id_2 category_id_3  \n",
       "56              0              7      Impacted  "
      ]
     },
     "execution_count": 35,
     "metadata": {},
     "output_type": "execute_result"
    }
   ],
   "source": [
    "temp = res.copy()\n",
    "temp['category_id_3'] = res['category_id_3'].map(disease_label)\n",
    "temp"
   ]
  },
  {
   "cell_type": "code",
   "execution_count": 72,
   "id": "22e0cb97",
   "metadata": {},
   "outputs": [
    {
     "data": {
      "text/plain": [
       "[831.7460317460317, 426.984126984127, 233.33333333333337, 171.42857142857144]"
      ]
     },
     "execution_count": 72,
     "metadata": {},
     "output_type": "execute_result"
    }
   ],
   "source": [
    "temp['bbox'].to_list()[0]"
   ]
  },
  {
   "cell_type": "code",
   "execution_count": 78,
   "id": "4431ba59",
   "metadata": {},
   "outputs": [
    {
     "data": {
      "text/plain": [
       "56    [831, 426, 233, 171]\n",
       "Name: bbox_int, dtype: object"
      ]
     },
     "execution_count": 78,
     "metadata": {},
     "output_type": "execute_result"
    }
   ],
   "source": [
    "temp['bbox_int']"
   ]
  },
  {
   "cell_type": "markdown",
   "id": "ad6c8455",
   "metadata": {},
   "source": [
    "### YOLOv8 format"
   ]
  },
  {
   "cell_type": "code",
   "execution_count": 37,
   "id": "19643253",
   "metadata": {},
   "outputs": [
    {
     "name": "stdout",
     "output_type": "stream",
     "text": [
      "\n",
      "image 1/1 C:\\Users\\islam\\Diploma\\train_0.png: 320x640 1 person, 205.0ms\n",
      "Speed: 4.0ms preprocess, 205.0ms inference, 2.0ms postprocess per image at shape (1, 3, 320, 640)\n"
     ]
    }
   ],
   "source": [
    "from ultralytics import YOLO\n",
    "\n",
    "model = YOLO('yolov8s.pt')\n",
    "\n",
    "response = model.predict('train_0.png')"
   ]
  },
  {
   "cell_type": "code",
   "execution_count": 40,
   "id": "c0793079",
   "metadata": {},
   "outputs": [
    {
     "data": {
      "text/plain": [
       "tensor([[6.5990e+01, 1.3040e+01, 2.7121e+03, 1.2804e+03, 8.3872e-01, 0.0000e+00]])"
      ]
     },
     "execution_count": 40,
     "metadata": {},
     "output_type": "execute_result"
    }
   ],
   "source": [
    "response[0].boxes.data"
   ]
  },
  {
   "cell_type": "markdown",
   "id": "add1435d",
   "metadata": {},
   "source": [
    "### Transform to YOLOv8 format\n",
    "x,y,w,h,probs,cls"
   ]
  },
  {
   "cell_type": "code",
   "execution_count": 56,
   "id": "54365094",
   "metadata": {},
   "outputs": [
    {
     "data": {
      "text/plain": [
       "[0, 7, 'Impacted']"
      ]
     },
     "execution_count": 56,
     "metadata": {},
     "output_type": "execute_result"
    }
   ],
   "source": [
    "temp[['category_id_1', 'category_id_2', 'category_id_3']].T[56].to_list()"
   ]
  },
  {
   "cell_type": "code",
   "execution_count": 79,
   "id": "779d0eaf",
   "metadata": {},
   "outputs": [
    {
     "data": {
      "text/plain": [
       "[831.7460317460317,\n",
       " 426.984126984127,\n",
       " 233.33333333333337,\n",
       " 171.42857142857144,\n",
       " 1,\n",
       " 'Impacted']"
      ]
     },
     "execution_count": 79,
     "metadata": {},
     "output_type": "execute_result"
    }
   ],
   "source": [
    "yolov8_format = []\n",
    "\n",
    "def change_to_yolo(temp: pd.DataFrame):\n",
    "    yolov8_format.extend(temp['bbox'].to_list()[0])\n",
    "    yolov8_format.append(1)\n",
    "    yolov8_format.append(temp['category_id_3'].to_list()[0])\n",
    "    \n",
    "    return yolov8_format\n",
    "    \n",
    "change_to_yolo(temp)"
   ]
  },
  {
   "cell_type": "code",
   "execution_count": 80,
   "id": "6d6d3148",
   "metadata": {},
   "outputs": [
    {
     "data": {
      "text/plain": [
       "[831.7460317460317,\n",
       " 426.984126984127,\n",
       " 233.33333333333337,\n",
       " 171.42857142857144,\n",
       " 1,\n",
       " 'Impacted']"
      ]
     },
     "execution_count": 80,
     "metadata": {},
     "output_type": "execute_result"
    }
   ],
   "source": [
    "yolov8_format"
   ]
  },
  {
   "cell_type": "markdown",
   "id": "5028171b",
   "metadata": {},
   "source": [
    "### Bounding Boxes on test image"
   ]
  },
  {
   "cell_type": "code",
   "execution_count": 64,
   "id": "85af7512",
   "metadata": {
    "scrolled": true
   },
   "outputs": [
    {
     "data": {
      "text/plain": [
       "[831.7460317460317, 426.984126984127]"
      ]
     },
     "execution_count": 64,
     "metadata": {},
     "output_type": "execute_result"
    }
   ],
   "source": [
    "yolov8_format[0:2]"
   ]
  },
  {
   "cell_type": "code",
   "execution_count": 84,
   "id": "d420299a",
   "metadata": {},
   "outputs": [
    {
     "data": {
      "text/plain": [
       "171"
      ]
     },
     "execution_count": 84,
     "metadata": {},
     "output_type": "execute_result"
    }
   ],
   "source": [
    "int(yolov8_format[3])"
   ]
  },
  {
   "cell_type": "code",
   "execution_count": 85,
   "id": "09702c6b",
   "metadata": {},
   "outputs": [
    {
     "data": {
      "text/plain": [
       "'Impacted'"
      ]
     },
     "execution_count": 85,
     "metadata": {},
     "output_type": "execute_result"
    }
   ],
   "source": [
    "yolov8_format[-1]"
   ]
  },
  {
   "cell_type": "code",
   "execution_count": 93,
   "id": "5b949633",
   "metadata": {},
   "outputs": [
    {
     "data": {
      "text/plain": [
       "<matplotlib.image.AxesImage at 0x27212437c10>"
      ]
     },
     "execution_count": 93,
     "metadata": {},
     "output_type": "execute_result"
    },
    {
     "data": {
      "image/png": "[encoded data removed]",
      "text/plain": [
       "<Figure size 640x480 with 1 Axes>"
      ]
     },
     "metadata": {},
     "output_type": "display_data"
    }
   ],
   "source": [
    "img = cv2.imread('train_0.png')\n",
    "img = cv2.cvtColor(img, cv2.COLOR_BGR2RGB)\n",
    "\n",
    "cv2.rectangle(img, (int(yolov8_format[0]), int(yolov8_format[1])) ,(int(yolov8_format[2])+int(yolov8_format[0]), int(yolov8_format[3])+int(yolov8_format[1])), (0,0,255), 3)\n",
    "\n",
    "font = cv2.FONT_HERSHEY_SIMPLEX\n",
    "font_scale = 1.5\n",
    "font_color = (255, 255, 255)  # White color in BGR\n",
    "thickness = 2\n",
    "\n",
    "cv2.putText(img, yolov8_format[-1], (int(yolov8_format[0]), int(yolov8_format[1])-30), font, font_scale, font_color, thickness)\n",
    "\n",
    "plt.imshow(img)"
   ]
  },
  {
   "cell_type": "code",
   "execution_count": null,
   "id": "306c896d",
   "metadata": {},
   "outputs": [],
   "source": []
  }
 ],
 "metadata": {
  "kernelspec": {
   "display_name": "Python 3 (ipykernel)",
   "language": "python",
   "name": "python3"
  },
  "language_info": {
   "codemirror_mode": {
    "name": "ipython",
    "version": 3
   },
   "file_extension": ".py",
   "mimetype": "text/x-python",
   "name": "python",
   "nbconvert_exporter": "python",
   "pygments_lexer": "ipython3",
   "version": "3.11.4"
  }
 },
 "nbformat": 4,
 "nbformat_minor": 5
}
